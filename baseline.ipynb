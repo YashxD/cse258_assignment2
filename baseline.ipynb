{
 "cells": [
  {
   "cell_type": "code",
   "execution_count": 1,
   "metadata": {},
   "outputs": [],
   "source": [
    "import gzip\n",
    "import json\n",
    "import html\n",
    "import re\n",
    "from collections import defaultdict\n",
    "import math\n",
    "import scipy.optimize\n",
    "from sklearn import svm\n",
    "import numpy\n",
    "import string\n",
    "import random\n",
    "import string\n",
    "from sklearn import linear_model"
   ]
  },
  {
   "cell_type": "code",
   "execution_count": 2,
   "metadata": {},
   "outputs": [
    {
     "name": "stdout",
     "output_type": "stream",
     "text": [
      "{'beer/name': 'John Harvards Simcoe IPA', 'beer/beerId': '63836', 'beer/brewerId': '8481', 'beer/ABV': '5.4', 'beer/style': 'India Pale Ale &#40;IPA&#41;', 'review/appearance': '4/5', 'review/aroma': '6/10', 'review/palate': '3/5', 'review/taste': '6/10', 'review/overall': '13/20', 'review/time': '1157587200', 'review/profileName': 'hopdog', 'review/text': 'On tap at the Springfield, PA location. Poured a deep and cloudy orange (almost a copper) color with a small sized off white head. Aromas or oranges and all around citric. Tastes of oranges, light caramel and a very light grapefruit finish. I too would not believe the 80+ IBUs - I found this one to have a very light bitterness with a medium sweetness to it. Light lacing left on the glass.'}\n",
      "\n"
     ]
    }
   ],
   "source": [
    "dataset_path = 'ratebeer.json.gz'\n",
    "with gzip.open(dataset_path, 'rt', encoding='utf-8') as f:\n",
    "    print(f.readline())"
   ]
  },
  {
   "cell_type": "code",
   "execution_count": 3,
   "metadata": {},
   "outputs": [],
   "source": [
    "# dataset_path = 'ratebeer.json.gz'\n",
    "# allRatings = []\n",
    "# count = 0\n",
    "# failCount = 0\n",
    "# review_text_pattern = r\",\\s*'review/text'\\s*:\\s*'[^']*'[,}]\\s*\"\n",
    "# review_text_pattern_2 = r\",\\s*'review/text'\\s*:\\s*\\\"[^']*\\\"[,}]\\s*\"\n",
    "# # review_text_pattern_2 = r\"(,\\s*'review/text'\\s*:\\s*['\\\"]([^'\\\"]*)['\\\"])\"\n",
    "# # review_text_pattern_2 = r\"(,\\s*'review/text'\\s*:\\s*['\\\"])[^'\\\"]*(['\\\"])\"\n",
    "# # review_text_pattern_2 = r\"(,\\s*'review/text'\\s*:\\s*['\\\"])([^'\\\"]*)(['\\\"])\"\n",
    "# # review_text_pattern_2 = r\"(,\\s*'review/text'\\s*:\\s*['\\\"])([^'\\\"]+)(['\\\"])\"\n",
    "\n",
    "# with gzip.open(dataset_path, 'rt', encoding='utf-8') as f:\n",
    "#     for line in f:\n",
    "#         line = line.strip()\n",
    "#         # line = line.replace('\"', \"'\")\n",
    "#         line = html.unescape(line)\n",
    "#         lineog = line\n",
    "#         line = re.sub(review_text_pattern, '}', line)  # Remove 'review/text' key and its content\n",
    "#         # line = re.sub(review_text_pattern_2, '}', line)  # Remove 'review/text' key and its content\n",
    "#         line = line.replace(\"'\", '\"')\n",
    "#         # print(lineog)\n",
    "\n",
    "#         try:\n",
    "#             data = json.loads(line)\n",
    "#             # allRatings.append(data)\n",
    "            \n",
    "#         except json.JSONDecodeError as e:\n",
    "#             print(f\"Error decoding JSON: {e}\")\n",
    "#             print(lineog)\n",
    "#             print(line)\n",
    "#             failCount += 1\n",
    "        \n",
    "#         if count == 10:\n",
    "#             # print(line)\n",
    "#             break\n",
    "#         count += 1\n",
    "\n",
    "# print(failCount)"
   ]
  },
  {
   "cell_type": "code",
   "execution_count": 4,
   "metadata": {},
   "outputs": [
    {
     "name": "stdout",
     "output_type": "stream",
     "text": [
      "2924164 48539\n"
     ]
    }
   ],
   "source": [
    "dataset_path = 'ratebeer.json.gz'\n",
    "allRatings = []\n",
    "count = 0\n",
    "failCount = 0\n",
    "review_text_pattern = r\",\\s*'review/text'\\s*:\\s*'[^']*'[,}]\\s*\"\n",
    "\n",
    "with gzip.open(dataset_path, 'rt', encoding='utf-8') as f:\n",
    "    for line in f:\n",
    "        line = line.strip()\n",
    "        line = html.unescape(line)\n",
    "        line = re.sub(review_text_pattern, '}', line)  # Remove 'review/text' key and its content\n",
    "        line = line.replace(\"'\", '\"')\n",
    "\n",
    "        try:\n",
    "            data = json.loads(line)\n",
    "            allRatings.append(data)\n",
    "            \n",
    "        except json.JSONDecodeError as e:\n",
    "            failCount += 1\n",
    "\n",
    "        count += 1\n",
    "\n",
    "print(count, failCount)"
   ]
  },
  {
   "cell_type": "code",
   "execution_count": 5,
   "metadata": {},
   "outputs": [
    {
     "name": "stdout",
     "output_type": "stream",
     "text": [
      "{'beer/name': 'John Harvards Simcoe IPA', 'beer/beerId': '63836', 'beer/brewerId': '8481', 'beer/ABV': '5.4', 'beer/style': 'India Pale Ale (IPA)', 'review/appearance': '4/5', 'review/aroma': '6/10', 'review/palate': '3/5', 'review/taste': '6/10', 'review/overall': '13/20', 'review/time': '1157587200', 'review/profileName': 'hopdog'}\n",
      "<class 'dict'>\n"
     ]
    }
   ],
   "source": [
    "print(allRatings[0])\n",
    "print(type(allRatings[0]))"
   ]
  },
  {
   "cell_type": "code",
   "execution_count": 7,
   "metadata": {},
   "outputs": [
    {
     "name": "stdout",
     "output_type": "stream",
     "text": [
      "1725375 287562 862688\n"
     ]
    }
   ],
   "source": [
    "trainingRatio = 0.6\n",
    "validationRatio = 0.7\n",
    "\n",
    "ratingsTrain = allRatings[:int(len(allRatings)*trainingRatio)]\n",
    "ratingsValid = allRatings[int(len(allRatings)*trainingRatio) : int(len(allRatings)*validationRatio)]\n",
    "ratingsTest = allRatings[int(len(allRatings)*validationRatio):]\n",
    "\n",
    "print(len(ratingsTrain), len(ratingsValid), len(ratingsTest))"
   ]
  },
  {
   "cell_type": "code",
   "execution_count": 9,
   "metadata": {},
   "outputs": [],
   "source": [
    "def feature(datum):\n",
    "    # Calculate the number of times ! is present in the review\n",
    "    # Return the value to be passed into feature (X)\n",
    "    feat = [1]\n",
    "    feat.append(eval(datum['review/appearance']) > 0.5)\n",
    "    feat.append(eval(datum['review/aroma']) > 0.5)\n",
    "    feat.append(eval(datum['review/palate']) > 0.5)\n",
    "    feat.append(eval(datum['review/taste']) > 0.5)\n",
    "    return feat"
   ]
  },
  {
   "cell_type": "code",
   "execution_count": 10,
   "metadata": {},
   "outputs": [],
   "source": [
    "X = [feature(r) for r in ratingsTrain]\n",
    "Y = [eval(r['review/overall']) for r in ratingsTrain]"
   ]
  },
  {
   "cell_type": "code",
   "execution_count": 11,
   "metadata": {},
   "outputs": [
    {
     "data": {
      "text/html": [
       "<style>#sk-container-id-1 {color: black;}#sk-container-id-1 pre{padding: 0;}#sk-container-id-1 div.sk-toggleable {background-color: white;}#sk-container-id-1 label.sk-toggleable__label {cursor: pointer;display: block;width: 100%;margin-bottom: 0;padding: 0.3em;box-sizing: border-box;text-align: center;}#sk-container-id-1 label.sk-toggleable__label-arrow:before {content: \"▸\";float: left;margin-right: 0.25em;color: #696969;}#sk-container-id-1 label.sk-toggleable__label-arrow:hover:before {color: black;}#sk-container-id-1 div.sk-estimator:hover label.sk-toggleable__label-arrow:before {color: black;}#sk-container-id-1 div.sk-toggleable__content {max-height: 0;max-width: 0;overflow: hidden;text-align: left;background-color: #f0f8ff;}#sk-container-id-1 div.sk-toggleable__content pre {margin: 0.2em;color: black;border-radius: 0.25em;background-color: #f0f8ff;}#sk-container-id-1 input.sk-toggleable__control:checked~div.sk-toggleable__content {max-height: 200px;max-width: 100%;overflow: auto;}#sk-container-id-1 input.sk-toggleable__control:checked~label.sk-toggleable__label-arrow:before {content: \"▾\";}#sk-container-id-1 div.sk-estimator input.sk-toggleable__control:checked~label.sk-toggleable__label {background-color: #d4ebff;}#sk-container-id-1 div.sk-label input.sk-toggleable__control:checked~label.sk-toggleable__label {background-color: #d4ebff;}#sk-container-id-1 input.sk-hidden--visually {border: 0;clip: rect(1px 1px 1px 1px);clip: rect(1px, 1px, 1px, 1px);height: 1px;margin: -1px;overflow: hidden;padding: 0;position: absolute;width: 1px;}#sk-container-id-1 div.sk-estimator {font-family: monospace;background-color: #f0f8ff;border: 1px dotted black;border-radius: 0.25em;box-sizing: border-box;margin-bottom: 0.5em;}#sk-container-id-1 div.sk-estimator:hover {background-color: #d4ebff;}#sk-container-id-1 div.sk-parallel-item::after {content: \"\";width: 100%;border-bottom: 1px solid gray;flex-grow: 1;}#sk-container-id-1 div.sk-label:hover label.sk-toggleable__label {background-color: #d4ebff;}#sk-container-id-1 div.sk-serial::before {content: \"\";position: absolute;border-left: 1px solid gray;box-sizing: border-box;top: 0;bottom: 0;left: 50%;z-index: 0;}#sk-container-id-1 div.sk-serial {display: flex;flex-direction: column;align-items: center;background-color: white;padding-right: 0.2em;padding-left: 0.2em;position: relative;}#sk-container-id-1 div.sk-item {position: relative;z-index: 1;}#sk-container-id-1 div.sk-parallel {display: flex;align-items: stretch;justify-content: center;background-color: white;position: relative;}#sk-container-id-1 div.sk-item::before, #sk-container-id-1 div.sk-parallel-item::before {content: \"\";position: absolute;border-left: 1px solid gray;box-sizing: border-box;top: 0;bottom: 0;left: 50%;z-index: -1;}#sk-container-id-1 div.sk-parallel-item {display: flex;flex-direction: column;z-index: 1;position: relative;background-color: white;}#sk-container-id-1 div.sk-parallel-item:first-child::after {align-self: flex-end;width: 50%;}#sk-container-id-1 div.sk-parallel-item:last-child::after {align-self: flex-start;width: 50%;}#sk-container-id-1 div.sk-parallel-item:only-child::after {width: 0;}#sk-container-id-1 div.sk-dashed-wrapped {border: 1px dashed gray;margin: 0 0.4em 0.5em 0.4em;box-sizing: border-box;padding-bottom: 0.4em;background-color: white;}#sk-container-id-1 div.sk-label label {font-family: monospace;font-weight: bold;display: inline-block;line-height: 1.2em;}#sk-container-id-1 div.sk-label-container {text-align: center;}#sk-container-id-1 div.sk-container {/* jupyter's `normalize.less` sets `[hidden] { display: none; }` but bootstrap.min.css set `[hidden] { display: none !important; }` so we also need the `!important` here to be able to override the default hidden behavior on the sphinx rendered scikit-learn.org. See: https://github.com/scikit-learn/scikit-learn/issues/21755 */display: inline-block !important;position: relative;}#sk-container-id-1 div.sk-text-repr-fallback {display: none;}</style><div id=\"sk-container-id-1\" class=\"sk-top-container\"><div class=\"sk-text-repr-fallback\"><pre>LinearRegression(fit_intercept=False)</pre><b>In a Jupyter environment, please rerun this cell to show the HTML representation or trust the notebook. <br />On GitHub, the HTML representation is unable to render, please try loading this page with nbviewer.org.</b></div><div class=\"sk-container\" hidden><div class=\"sk-item\"><div class=\"sk-estimator sk-toggleable\"><input class=\"sk-toggleable__control sk-hidden--visually\" id=\"sk-estimator-id-1\" type=\"checkbox\" checked><label for=\"sk-estimator-id-1\" class=\"sk-toggleable__label sk-toggleable__label-arrow\">LinearRegression</label><div class=\"sk-toggleable__content\"><pre>LinearRegression(fit_intercept=False)</pre></div></div></div></div></div>"
      ],
      "text/plain": [
       "LinearRegression(fit_intercept=False)"
      ]
     },
     "execution_count": 11,
     "metadata": {},
     "output_type": "execute_result"
    }
   ],
   "source": [
    "model = linear_model.LinearRegression(fit_intercept=False)\n",
    "model.fit(X, Y)"
   ]
  },
  {
   "cell_type": "code",
   "execution_count": 14,
   "metadata": {},
   "outputs": [],
   "source": [
    "def MSE(labels, predictions):\n",
    "    sse = sum([(p-l)**2 for (p,l) in zip(predictions, labels)])\n",
    "    return sse / len(predictions)"
   ]
  },
  {
   "cell_type": "code",
   "execution_count": 15,
   "metadata": {},
   "outputs": [
    {
     "name": "stdout",
     "output_type": "stream",
     "text": [
      "[0.31936544 0.07553991 0.08921403 0.10037101 0.15186566]\n"
     ]
    }
   ],
   "source": [
    "print(model.coef_)\n",
    "xValid = [feature(r) for r in ratingsValid]\n",
    "yValid = [eval(r['review/overall']) for r in ratingsValid]"
   ]
  },
  {
   "cell_type": "code",
   "execution_count": 16,
   "metadata": {},
   "outputs": [
    {
     "data": {
      "text/plain": [
       "0.012536702999114236"
      ]
     },
     "execution_count": 16,
     "metadata": {},
     "output_type": "execute_result"
    }
   ],
   "source": [
    "yPred = model.predict(xValid)\n",
    "mse = MSE(yValid, yPred)\n",
    "mse"
   ]
  },
  {
   "cell_type": "code",
   "execution_count": 17,
   "metadata": {},
   "outputs": [
    {
     "data": {
      "text/plain": [
       "[1, True, True, True, True]"
      ]
     },
     "execution_count": 17,
     "metadata": {},
     "output_type": "execute_result"
    }
   ],
   "source": [
    "xValid[5]"
   ]
  }
 ],
 "metadata": {
  "kernelspec": {
   "display_name": "Python 3",
   "language": "python",
   "name": "python3"
  },
  "language_info": {
   "codemirror_mode": {
    "name": "ipython",
    "version": 3
   },
   "file_extension": ".py",
   "mimetype": "text/x-python",
   "name": "python",
   "nbconvert_exporter": "python",
   "pygments_lexer": "ipython3",
   "version": "3.8.10"
  }
 },
 "nbformat": 4,
 "nbformat_minor": 2
}
