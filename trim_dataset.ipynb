{
 "cells": [
  {
   "cell_type": "code",
   "execution_count": 1,
   "metadata": {},
   "outputs": [],
   "source": [
    "import gzip\n",
    "import pandas as pd"
   ]
  },
  {
   "cell_type": "code",
   "execution_count": 2,
   "metadata": {},
   "outputs": [],
   "source": [
    "def parseData(fname):\n",
    "    with gzip.open(fname, 'rt') as f:\n",
    "        for l in f:\n",
    "            yield eval(l)\n",
    "\n",
    "\n",
    "allRatings = list(parseData(\"ratebeer.json.gz\"))"
   ]
  },
  {
   "cell_type": "code",
   "execution_count": 3,
   "metadata": {},
   "outputs": [],
   "source": [
    "# Convert to dataframe\n",
    "data = pd.DataFrame(allRatings)\n",
    "\n",
    "# Delete allRatings to free up memory\n",
    "del allRatings"
   ]
  },
  {
   "cell_type": "code",
   "execution_count": 4,
   "metadata": {},
   "outputs": [],
   "source": [
    "# Store this dataframe for later use (rather than using the original dataset)\n",
    "# data.to_json('ratebeer_df.json.gz', orient='records', compression='gzip', lines=True)"
   ]
  },
  {
   "cell_type": "code",
   "execution_count": 5,
   "metadata": {},
   "outputs": [],
   "source": [
    "# Remove beers with less than 800 reviews\n",
    "beer_count_cutoff = 800\n",
    "beer_counts = data['beer/beerId'].value_counts()\n",
    "beers_to_remove = beer_counts[beer_counts < beer_count_cutoff].index\n",
    "data = data[~data['beer/beerId'].isin(beers_to_remove)]"
   ]
  },
  {
   "cell_type": "code",
   "execution_count": 6,
   "metadata": {},
   "outputs": [],
   "source": [
    "# Remove users with less than 10 reviews\n",
    "review_count_cutoff = 10\n",
    "user_review_counts = data['review/profileName'].value_counts()\n",
    "users_to_remove = user_review_counts[user_review_counts < review_count_cutoff].index\n",
    "data = data[~data['review/profileName'].isin(users_to_remove)]"
   ]
  },
  {
   "cell_type": "code",
   "execution_count": 7,
   "metadata": {},
   "outputs": [],
   "source": [
    "# Drop all entries with NaN\n",
    "data = data.dropna()\n"
   ]
  },
  {
   "cell_type": "code",
   "execution_count": 8,
   "metadata": {},
   "outputs": [
    {
     "name": "stdout",
     "output_type": "stream",
     "text": [
      "beer/beerId\n",
      "734       3034\n",
      "1267      2995\n",
      "10569     2854\n",
      "158       2815\n",
      "365       2760\n",
      "          ... \n",
      "411        765\n",
      "108325     749\n",
      "40957      733\n",
      "2332       717\n",
      "8081       680\n",
      "Name: count, Length: 506, dtype: int64\n",
      "beer/brewerId\n",
      "32       28142\n",
      "198      25766\n",
      "76       21341\n",
      "96       20009\n",
      "232      19127\n",
      "         ...  \n",
      "11827      590\n",
      "10964      495\n",
      "1190       495\n",
      "1000       461\n",
      "1265       461\n",
      "Name: count, Length: 154, dtype: int64\n"
     ]
    }
   ],
   "source": [
    "print(data['beer/beerId'].value_counts())\n",
    "print(data['beer/brewerId'].value_counts())\n"
   ]
  },
  {
   "cell_type": "code",
   "execution_count": 9,
   "metadata": {},
   "outputs": [],
   "source": [
    "# data_clean.to_csv('ratebeer_cleaned.csv', index=False)"
   ]
  },
  {
   "cell_type": "code",
   "execution_count": 10,
   "metadata": {},
   "outputs": [],
   "source": [
    "data.to_json('ratebeer_cleaned.json.gz', orient='records', compression='gzip', lines=True)"
   ]
  },
  {
   "cell_type": "code",
   "execution_count": 11,
   "metadata": {},
   "outputs": [
    {
     "data": {
      "text/plain": [
       "beer/name                          Chimay Rouge &#40;Red&#41; / Premire\n",
       "beer/beerId                                                          51\n",
       "beer/brewerId                                                        12\n",
       "beer/ABV                                                              7\n",
       "beer/style                                                 Abbey Dubbel\n",
       "review/appearance                                                   4/5\n",
       "review/aroma                                                       7/10\n",
       "review/palate                                                       4/5\n",
       "review/taste                                                       8/10\n",
       "review/overall                                                    15/20\n",
       "review/time                                                  1213142400\n",
       "review/profileName                                         ketchepillar\n",
       "review/text           UPDATED: FEB 24, 2009 Seemed cheaply made or t...\n",
       "Name: 4433, dtype: object"
      ]
     },
     "execution_count": 11,
     "metadata": {},
     "output_type": "execute_result"
    }
   ],
   "source": [
    "data.iloc[10]"
   ]
  }
 ],
 "metadata": {
  "kernelspec": {
   "display_name": "Python 3",
   "language": "python",
   "name": "python3"
  },
  "language_info": {
   "codemirror_mode": {
    "name": "ipython",
    "version": 3
   },
   "file_extension": ".py",
   "mimetype": "text/x-python",
   "name": "python",
   "nbconvert_exporter": "python",
   "pygments_lexer": "ipython3",
   "version": "3.8.10"
  }
 },
 "nbformat": 4,
 "nbformat_minor": 2
}
